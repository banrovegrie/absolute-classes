{
  "nbformat": 4,
  "nbformat_minor": 0,
  "metadata": {
    "colab": {
      "name": "absep.ipynb",
      "provenance": []
    },
    "kernelspec": {
      "name": "python3",
      "display_name": "Python 3"
    },
    "language_info": {
      "name": "python"
    },
    "accelerator": "GPU",
    "gpuClass": "standard"
  },
  "cells": [
    {
      "cell_type": "code",
      "source": [
        "!pip install numpy\n",
        "!pip install qutip\n",
        "!pip install cirq"
      ],
      "metadata": {
        "id": "3FUcFjzMcJoa"
      },
      "execution_count": null,
      "outputs": []
    },
    {
      "cell_type": "markdown",
      "source": [
        "The following code deals with the creation of $3 \\otimes 3$ separable states and corresponding random $9 \\times 9$ density matrices."
      ],
      "metadata": {
        "id": "4lwtuykerCLN"
      }
    },
    {
      "cell_type": "code",
      "execution_count": 4,
      "metadata": {
        "id": "4GXjh21ccFLu"
      },
      "outputs": [],
      "source": [
        "import qutip\n",
        "import numpy as np\n",
        "import random\n",
        "from matplotlib import pyplot as plt\n",
        "from cirq.linalg import is_unitary\n",
        "from cirq.qis.states import validate_density_matrix\n",
        "\n",
        "\"\"\"\n",
        "We are trying to create separable states of order 3 \\otimes 3.\n",
        "Procedure:\n",
        "- Create random density matrices of size 3x3.\n",
        "- Take random sum of tensor product of random a, b \\in 3x3 dm-set\n",
        "with a certain random probability associated with it.\n",
        "\"\"\"\n",
        "\n",
        "\n",
        "def embed(matrix: np.ndarray) -> list:\n",
        "    x, y = matrix.shape\n",
        "\n",
        "    # Validate the given density matrix\n",
        "    try:\n",
        "        validate_density_matrix(matrix, qid_shape=x)\n",
        "    except:\n",
        "        print(f\"Not valid density matrix: {matrix}\")\n",
        "        return\n",
        "    matrix = matrix.tolist()\n",
        "\n",
        "    # Flatten and embed the density matrix by taking care that,\n",
        "    # it has (n - 1) diagonal values and upper traingular matrix.\n",
        "    flattened = []\n",
        "    for i in range(x):\n",
        "        for j in range(y):\n",
        "            if i < j:\n",
        "                flattened.append(matrix[i][j])\n",
        "\n",
        "    # Embed the real and complex values respectively.\n",
        "    embedding = []\n",
        "    for i in flattened:\n",
        "        embedding.extend([i.real, i.imag])\n",
        "\n",
        "    # Embed diagonal matrices\n",
        "    for i in range(1, x):\n",
        "        embedding.append(matrix[i][i].real)\n",
        "\n",
        "    return embedding\n",
        "\n",
        "\n",
        "def get_separable_state(n: int, m: int, max_len: int = 50) -> np.ndarray:\n",
        "    l = random.randint(1, max_len)\n",
        "    prob = np.array([random.random() for _ in range(l)])\n",
        "    prob = prob / np.sum(prob)\n",
        "\n",
        "    separable_state = np.zeros((n * m, n * m))\n",
        "    for i in range(l):\n",
        "        tensor = np.kron(np.array(qutip.rand_dm(n)), np.array(qutip.rand_dm(m)))\n",
        "        separable_state = np.add(separable_state, prob[i] * tensor)\n",
        "\n",
        "    # print(separable_state, \"\\n\\n\", separable_state.shape, \"\\n\\n\")\n",
        "    return separable_state\n",
        "\n",
        "\n",
        "def get_separable_states(num: int, n: int, m: int) -> np.ndarray:\n",
        "    separable_states = []\n",
        "    for i in range(num):\n",
        "        separable_states.append(embed(get_separable_state(n, m)))\n",
        "        # print(i)\n",
        "    return np.array(separable_states)\n",
        "\n",
        "\n",
        "def get_random_states(num: int, n: int, m: int) -> np.ndarray:\n",
        "    random_states = []\n",
        "    for i in range(num):\n",
        "        random_states.append(embed(np.array(qutip.rand_dm(n * m))))\n",
        "        # print(i)\n",
        "    return np.array(random_states)"
      ]
    },
    {
      "cell_type": "code",
      "source": [
        "!pip install pyod"
      ],
      "metadata": {
        "id": "LpHGNTxPoP9o"
      },
      "execution_count": null,
      "outputs": []
    },
    {
      "cell_type": "code",
      "source": [
        "# import libraries\n",
        "from pyod.utils.data import generate_data\n",
        "from pyod.models.ocsvm import OCSVM\n",
        "from pyod.utils.example import visualize\n",
        "\n",
        "\n",
        "def accuracy(a, b):\n",
        "    n = range(len(a))\n",
        "    return sum([a[i] != b[i] for i in n])\n",
        "\n",
        "\n",
        "# X_train, X_test, y_train, y_test = generate_data(\n",
        "#     n_train=5, n_test=1, n_features=3, behaviour=\"new\"\n",
        "# )\n",
        "\n",
        "\n",
        "def load_data(n: int, m: int):\n",
        "    X_train = np.load(\"/content/train_data.npy\")\n",
        "    y_train = [0 for _ in range(50000)]\n",
        "\n",
        "    X_test = np.concatenate(\n",
        "        (np.load(\"/content/test_data.npy\")[:50], get_separable_states(50, 3, 3))\n",
        "    )\n",
        "    y_test = [0 for _ in range(100)]\n",
        "    return X_train, X_test, y_train, y_test"
      ],
      "metadata": {
        "id": "AHcDCVWsoJJg"
      },
      "execution_count": 5,
      "outputs": []
    },
    {
      "cell_type": "code",
      "source": [
        "n = 3\n",
        "m = 3\n",
        "X_train, X_test, y_train, y_test = load_data(n, m)\n",
        "clf = OCSVM(nu=0.9, gamma=0.5, kernel=\"rbf\", verbose=1)\n",
        "clf.fit(X_train)"
      ],
      "metadata": {
        "colab": {
          "base_uri": "https://localhost:8080/"
        },
        "id": "3W-p96t-f_cN",
        "outputId": "57219d34-5772-4dd2-b29a-78830d6bbd24"
      },
      "execution_count": 7,
      "outputs": [
        {
          "output_type": "stream",
          "name": "stdout",
          "text": [
            "[LibSVM]"
          ]
        },
        {
          "output_type": "execute_result",
          "data": {
            "text/plain": [
              "OCSVM(cache_size=200, coef0=0.0, contamination=0.1, degree=3, gamma=0.5,\n",
              "   kernel='rbf', max_iter=-1, nu=0.9, shrinking=True, tol=0.001, verbose=1)"
            ]
          },
          "metadata": {},
          "execution_count": 7
        }
      ]
    },
    {
      "cell_type": "code",
      "source": [
        "y_train_pred = clf.predict(X_train)"
      ],
      "metadata": {
        "id": "Lcqexnqth5_4"
      },
      "execution_count": 8,
      "outputs": []
    },
    {
      "cell_type": "code",
      "source": [
        "y_test_pred = clf.predict(X_test)"
      ],
      "metadata": {
        "id": "aYymp69Fi7yG"
      },
      "execution_count": 9,
      "outputs": []
    },
    {
      "cell_type": "code",
      "source": [
        "print(y_test_pred)"
      ],
      "metadata": {
        "colab": {
          "base_uri": "https://localhost:8080/"
        },
        "id": "mY1qEzRtjBMv",
        "outputId": "facfebdd-d94e-48ac-90f2-af73d7a75126"
      },
      "execution_count": 10,
      "outputs": [
        {
          "output_type": "stream",
          "name": "stdout",
          "text": [
            "[1 1 1 1 1 1 1 1 1 1 1 1 1 1 1 1 1 1 1 1 1 1 1 1 1 1 1 1 1 1 1 1 1 1 1 1 1\n",
            " 1 1 1 1 1 1 1 1 1 1 1 1 1 1 1 0 0 0 0 0 0 0 0 0 0 0 0 1 1 0 1 0 1 0 0 0 0\n",
            " 0 0 0 0 0 0 0 0 0 0 0 0 0 0 0 0 0 0 0 0 0 0 0 0 0 0]\n"
          ]
        }
      ]
    },
    {
      "cell_type": "code",
      "source": [
        "print(y_test_pred[:50])"
      ],
      "metadata": {
        "colab": {
          "base_uri": "https://localhost:8080/"
        },
        "id": "_CF90bYwjJAY",
        "outputId": "2d137b4b-a851-4083-90db-9cc061d1554d"
      },
      "execution_count": 11,
      "outputs": [
        {
          "output_type": "stream",
          "name": "stdout",
          "text": [
            "[1 1 1 1 1 1 1 1 1 1 1 1 1 1 1 1 1 1 1 1 1 1 1 1 1 1 1 1 1 1 1 1 1 1 1 1 1\n",
            " 1 1 1 1 1 1 1 1 1 1 1 1 1]\n"
          ]
        }
      ]
    },
    {
      "cell_type": "code",
      "source": [
        "print(y_test_pred[50:])"
      ],
      "metadata": {
        "colab": {
          "base_uri": "https://localhost:8080/"
        },
        "id": "wIEfJQbRjP0L",
        "outputId": "cf6b7f06-433b-42f3-eb73-57151f29794a"
      },
      "execution_count": 12,
      "outputs": [
        {
          "output_type": "stream",
          "name": "stdout",
          "text": [
            "[1 1 0 0 0 0 0 0 0 0 0 0 0 0 1 1 0 1 0 1 0 0 0 0 0 0 0 0 0 0 0 0 0 0 0 0 0\n",
            " 0 0 0 0 0 0 0 0 0 0 0 0 0]\n"
          ]
        }
      ]
    },
    {
      "cell_type": "markdown",
      "source": [
        "Let's try out a few well known test cases.\n",
        "\n",
        "\n",
        "1. Maximally mixed matrix\n",
        "2.\n",
        "3.\n",
        "\n",
        "\n",
        "How to try out tests?\n",
        "\n",
        "\n",
        "*   Create your separable or entangled matrix.\n",
        "*   List item\n",
        "\n",
        "\n"
      ],
      "metadata": {
        "id": "RhCxUbuPjnZv"
      }
    },
    {
      "cell_type": "code",
      "source": [
        "# Maximally mixed matrix\n",
        "I = (1/9) * np.eye(9)\n",
        "I = embed(I)\n",
        "if clf.predict(np.array([I]))[0] == 0:\n",
        "    print(\"Separable, correct!\")"
      ],
      "metadata": {
        "colab": {
          "base_uri": "https://localhost:8080/"
        },
        "id": "o15nUlvAlMlr",
        "outputId": "eaaf5a30-35e2-40d4-a896-b213f8a24e6f"
      },
      "execution_count": 19,
      "outputs": [
        {
          "output_type": "stream",
          "name": "stdout",
          "text": [
            "Separable, correct!\n"
          ]
        }
      ]
    },
    {
      "cell_type": "code",
      "source": [
        "# Random matrices\n",
        "for i in range(int(1e8)):\n",
        "    # print(f\"Test {i + 1}\")\n",
        "    rho = qutip.rand_dm(9)\n",
        "    rho.dims = [[3, 3], [3, 3]]\n",
        "    rho_out = qutip.partial_transpose(rho, [0, 1])\n",
        "    if min(rho_out.eigenenergies()) >= 0:\n",
        "        # print(min(rho_out.eigenenergies()))\n",
        "        M = np.array(rho)\n",
        "        M = embed(M)\n",
        "        print(clf.predict(np.array([M]))[0])"
      ],
      "metadata": {
        "colab": {
          "base_uri": "https://localhost:8080/"
        },
        "id": "buUnQxhXpdFb",
        "outputId": "f9b65ac2-d142-4a8f-d407-369c52375a32"
      },
      "execution_count": null,
      "outputs": [
        {
          "output_type": "stream",
          "name": "stdout",
          "text": [
            "1\n",
            "1\n",
            "1\n",
            "0\n",
            "1\n",
            "1\n",
            "1\n",
            "0\n",
            "1\n",
            "0\n",
            "1\n",
            "1\n",
            "1\n",
            "1\n",
            "1\n",
            "1\n",
            "1\n",
            "0\n",
            "1\n",
            "1\n",
            "1\n",
            "1\n",
            "1\n",
            "0\n",
            "1\n",
            "1\n",
            "1\n",
            "0\n",
            "1\n",
            "1\n",
            "1\n",
            "1\n",
            "1\n",
            "1\n",
            "0\n",
            "0\n",
            "1\n",
            "1\n",
            "1\n",
            "1\n",
            "0\n",
            "1\n",
            "1\n",
            "0\n",
            "1\n",
            "1\n",
            "1\n",
            "1\n",
            "1\n",
            "1\n",
            "1\n",
            "0\n",
            "1\n",
            "1\n",
            "0\n",
            "1\n",
            "1\n",
            "1\n",
            "1\n",
            "1\n",
            "1\n",
            "1\n",
            "1\n",
            "1\n",
            "1\n",
            "1\n",
            "1\n",
            "1\n",
            "1\n",
            "1\n",
            "1\n",
            "1\n",
            "1\n",
            "1\n",
            "1\n",
            "1\n",
            "1\n",
            "1\n",
            "1\n",
            "1\n",
            "1\n",
            "1\n",
            "1\n",
            "1\n",
            "1\n",
            "1\n",
            "1\n",
            "1\n",
            "0\n",
            "1\n",
            "1\n",
            "1\n",
            "0\n",
            "1\n",
            "1\n",
            "1\n",
            "1\n",
            "1\n",
            "1\n",
            "1\n",
            "1\n",
            "0\n",
            "1\n",
            "1\n",
            "1\n"
          ]
        }
      ]
    }
  ]
}